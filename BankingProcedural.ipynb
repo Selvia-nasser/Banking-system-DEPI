{
  "nbformat": 4,
  "nbformat_minor": 0,
  "metadata": {
    "colab": {
      "provenance": []
    },
    "kernelspec": {
      "name": "python3",
      "display_name": "Python 3"
    },
    "language_info": {
      "name": "python"
    }
  },
  "cells": [
    {
      "cell_type": "code",
      "execution_count": null,
      "metadata": {
        "id": "RLm8ShnleRlr"
      },
      "outputs": [],
      "source": [
        "import random"
      ]
    },
    {
      "cell_type": "code",
      "source": [
        "def welcome():\n",
        "  bank_names = [\"El Ahly Bank\", \"National Bank\", \"CIB\", \"EGY Bank\", \"Brb2 Bank\"]\n",
        "  bank = random.choice(bank_names)\n",
        "  print(f\"Welcome to {bank}!\")"
      ],
      "metadata": {
        "id": "Z6gh5iXafTDJ"
      },
      "execution_count": null,
      "outputs": []
    },
    {
      "cell_type": "code",
      "source": [
        "def create_account():\n",
        "    name = input(\"Enter your name: \")\n",
        "    while True:\n",
        "        try:\n",
        "            balance = float(input(\"Enter initial balance: $\"))\n",
        "            return name, balance\n",
        "        except ValueError:\n",
        "            print(\"Please enter a valid number.\")"
      ],
      "metadata": {
        "id": "ULt3gmVvfWPv"
      },
      "execution_count": null,
      "outputs": []
    },
    {
      "cell_type": "code",
      "source": [
        "def check_balance(name, balance):\n",
        "    print(f\"{name}, your current balance is: ${balance:.2f}\\n\")\n",
        "    return balance\n",
        "\n",
        "def deposit(name, balance):\n",
        "    try:\n",
        "        amount = float(input(\"Enter amount to deposit: $\"))\n",
        "        if amount <= 0:\n",
        "            print(\"Deposit must be a positive number.\")\n",
        "        else:\n",
        "            balance += amount\n",
        "            print(f\"${amount:.2f} deposited.\")\n",
        "    except ValueError:\n",
        "        print(\"Invalid input.\")\n",
        "    print(f\"Your new balance is: ${balance:.2f}\\n\")\n",
        "    return balance\n",
        "\n",
        "def withdraw(name, balance):\n",
        "    try:\n",
        "        amount = float(input(\"Enter amount to withdraw: $\"))\n",
        "        if amount <= 0:\n",
        "            print(\"Withdrawal must be a positive number.\")\n",
        "        elif amount > balance:\n",
        "            print(\"Insufficient funds.\")\n",
        "        else:\n",
        "            balance -= amount\n",
        "            print(f\"${amount:.2f} withdrawn.\")\n",
        "    except ValueError:\n",
        "        print(\"Invalid input.\")\n",
        "    print(f\"Your new balance is: ${balance:.2f}\\n\")\n",
        "    return balance"
      ],
      "metadata": {
        "id": "qU4Tka98iuO8"
      },
      "execution_count": null,
      "outputs": []
    },
    {
      "cell_type": "code",
      "source": [
        "def main():\n",
        "    welcome()\n",
        "    name, balance = create_account()\n",
        "\n",
        "    while True:\n",
        "        print(\"Main Menu:\")\n",
        "        print(\"1. Check Balance\")\n",
        "        print(\"2. Deposit\")\n",
        "        print(\"3. Withdraw\")\n",
        "        print(\"4. Exit\")\n",
        "\n",
        "        choice = input(\"Choose an option (1-4): \")\n",
        "\n",
        "        if choice == '1':\n",
        "            balance = check_balance(name, balance)\n",
        "        elif choice == '2':\n",
        "            balance = deposit(name, balance)\n",
        "        elif choice == '3':\n",
        "            balance = withdraw(name, balance)\n",
        "        elif choice == '4':\n",
        "            print(f\"Thank you for banking with us, {name}!\")\n",
        "            break\n",
        "        else:\n",
        "            print(\"Invalid choice. Please enter a number between 1 and 4.\\n\")"
      ],
      "metadata": {
        "id": "54EPQnphizUj"
      },
      "execution_count": null,
      "outputs": []
    },
    {
      "cell_type": "code",
      "source": [
        "main()"
      ],
      "metadata": {
        "colab": {
          "base_uri": "https://localhost:8080/"
        },
        "id": "VYYyHAjvi1WF",
        "outputId": "0c987e0f-b781-4d61-cdd0-880f1f25dacb"
      },
      "execution_count": null,
      "outputs": [
        {
          "output_type": "stream",
          "name": "stdout",
          "text": [
            "Welcome to Brb2 Bank!\n",
            "Enter your name: Selvia\n",
            "Enter initial balance: $500\n",
            "Main Menu:\n",
            "1. Check Balance\n",
            "2. Deposit\n",
            "3. Withdraw\n",
            "4. Exit\n",
            "Choose an option (1-4): 1\n",
            "Selvia, your current balance is: $500.00\n",
            "\n",
            "Main Menu:\n",
            "1. Check Balance\n",
            "2. Deposit\n",
            "3. Withdraw\n",
            "4. Exit\n",
            "Choose an option (1-4): 2\n",
            "Enter amount to deposit: $200\n",
            "Selvia, $200.00 deposited.\n",
            "Your new balance is: $700.00\n",
            "\n",
            "Main Menu:\n",
            "1. Check Balance\n",
            "2. Deposit\n",
            "3. Withdraw\n",
            "4. Exit\n",
            "Choose an option (1-4): 3\n",
            "Enter amount to withdraw: $2000\n",
            "Insufficient funds.\n",
            "Your new balance is: $700.00\n",
            "\n",
            "Main Menu:\n",
            "1. Check Balance\n",
            "2. Deposit\n",
            "3. Withdraw\n",
            "4. Exit\n",
            "Choose an option (1-4): 3\n",
            "Enter amount to withdraw: $600\n",
            "Selvia, $600.00 withdrawn.\n",
            "Your new balance is: $100.00\n",
            "\n",
            "Main Menu:\n",
            "1. Check Balance\n",
            "2. Deposit\n",
            "3. Withdraw\n",
            "4. Exit\n",
            "Choose an option (1-4): 4\n",
            "Thank you for banking with us, Selvia!\n"
          ]
        }
      ]
    }
  ]
}